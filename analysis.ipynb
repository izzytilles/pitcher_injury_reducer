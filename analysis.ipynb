{
 "cells": [
  {
   "cell_type": "code",
   "execution_count": null,
   "metadata": {},
   "outputs": [],
   "source": [
    "import importlib\n",
    "import myutils\n",
    "importlib.reload(myutils)\n",
    "\n",
    "from sklearn.linear_model import LogisticRegression\n",
    "from sklearn.model_selection import train_test_split\n",
    "from sklearn.pipeline import Pipeline\n",
    "from sklearn.impute import SimpleImputer\n",
    "import pandas as pd"
   ]
  },
  {
   "cell_type": "code",
   "execution_count": null,
   "metadata": {},
   "outputs": [],
   "source": [
    "df = pd.read_csv(\"csv_files/fangraphs_leaderboard_24.csv\")\n",
    "df[\"vFA (pi)\"].fillna(df[\"vFA (pi)\"].mean(), inplace=True)\n",
    "print(df[\"vFA (pi)\"].median())"
   ]
  },
  {
   "cell_type": "code",
   "execution_count": null,
   "metadata": {},
   "outputs": [],
   "source": [
    "df2 = pd.read_csv(\"csv_files/fangraphs-leaderboards 2008.csv\")\n",
    "df2[\"vFA (pi)\"].fillna(df2[\"vFA (pi)\"].mean(), inplace=True)\n",
    "print(df2[\"vFA (pi)\"].median())"
   ]
  },
  {
   "cell_type": "code",
   "execution_count": null,
   "metadata": {},
   "outputs": [],
   "source": [
    "df3 = pd.read_csv(\"csv_files/2008-velo.csv\")\n",
    "df3[\"FB%\"].fillna(df3[\"FB%\"].mean(), inplace=True)\n",
    "print(df3[\"FB%\"].median())"
   ]
  },
  {
   "cell_type": "code",
   "execution_count": null,
   "metadata": {},
   "outputs": [],
   "source": [
    "df4 = pd.read_csv(\"csv_files/fangraphs_leaderboard_24.csv\")\n",
    "df4[\"FBv\"].fillna(df4[\"FBv\"].mean(), inplace=True)\n",
    "print(df4[\"FBv\"].median())"
   ]
  },
  {
   "cell_type": "code",
   "execution_count": null,
   "metadata": {},
   "outputs": [],
   "source": [
    "# get rid of same named columns \n",
    "df_clean = df[[\"Name\"]]\n",
    "df = df.drop(columns=['Team', 'NameASCII', 'PlayerId', 'MLBAMID'], errors=\"ignore\")\n",
    "df4[\"Name\"] = df4[\"Name\"].astype(str)\n",
    "df[\"Name\"] = df[\"Name\"].astype(str)\n",
    "new_df = df4.join(df_clean.set_index(\"Name\"), on=\"Name\", how='left')\n",
    "print(new_df)\n",
    "len(df4)"
   ]
  },
  {
   "cell_type": "code",
   "execution_count": null,
   "metadata": {},
   "outputs": [],
   "source": [
    "injury_page = pd.read_csv(\"csv_files/injury_report_24.csv\")\n",
    "pitch_breakdown = pd.read_csv(\"csv_files/fangraphs_leaderboard_all_pitchers.csv\")\n",
    "\n",
    "counter = len(injury_page[injury_page[\"Pos\"] == \"SP\"])\n",
    "print(counter)"
   ]
  },
  {
   "cell_type": "markdown",
   "metadata": {},
   "source": [
    "855 players pitched during the 2024 season. 229 starting pitchers were listed as injured during the 2024 season. 199 of them played in a game. "
   ]
  },
  {
   "cell_type": "code",
   "execution_count": null,
   "metadata": {},
   "outputs": [],
   "source": [
    "injured_pitchers = injury_page[injury_page[\"Pos\"] == \"SP\"]\n",
    "injured_pitchers_with_age = pd.merge(injured_pitchers, pitch_breakdown, on=\"Name\", how=\"inner\")"
   ]
  },
  {
   "cell_type": "markdown",
   "metadata": {},
   "source": [
    "Here is the breakdown by age:"
   ]
  },
  {
   "cell_type": "code",
   "execution_count": null,
   "metadata": {},
   "outputs": [],
   "source": [
    "age_counts = injured_pitchers_with_age[\"Age\"].value_counts().sort_index()  # Sort by age\n",
    "print(age_counts)"
   ]
  },
  {
   "cell_type": "code",
   "execution_count": null,
   "metadata": {},
   "outputs": [],
   "source": [
    "injured_pitchers_with_age[\"vFA (pi)\"].fillna(injured_pitchers_with_age[\"vFA (pi)\"].mean(), inplace=True)\n",
    "print(injured_pitchers_with_age[\"vFA (pi)\"].median())\n",
    "\n",
    "print(injured_pitchers_with_age[\"IP\"].median()/injured_pitchers_with_age[\"G\"].median())"
   ]
  },
  {
   "cell_type": "code",
   "execution_count": null,
   "metadata": {},
   "outputs": [],
   "source": [
    "merged = pd.merge(\n",
    "    pitch_breakdown,\n",
    "    injured_pitchers,\n",
    "    on=\"Name\",        \n",
    "    how=\"left\",       # keep all pitchers\n",
    "    indicator=True    # adds a \"_merge\" column\n",
    ")\n",
    "\n",
    "# add classification of 1 if injured, 0 if not\n",
    "pitch_breakdown[\"injury_label\"] = merged[\"_merge\"].apply(lambda x: 1 if x == \"both\" else 0)\n"
   ]
  },
  {
   "cell_type": "code",
   "execution_count": null,
   "metadata": {},
   "outputs": [],
   "source": [
    "features = [\n",
    "    'Age',\n",
    "    'IP',\n",
    "    'vFA (pi)',\n",
    "    'FB%',\n",
    "    'SL%',\n",
    "    'CH%',\n",
    "]\n",
    "\n",
    "X = pitch_breakdown[features]\n",
    "y = pitch_breakdown[\"injury_label\"] \n",
    "\n",
    "X_train, X_test, y_train, y_test = train_test_split(X, y, test_size=0.2)\n",
    "\n",
    "pipeline = Pipeline([\n",
    "    ('imputer', SimpleImputer(strategy='mean')),\n",
    "    ('model', LogisticRegression(max_iter=1000))  # use more iterations if it doesn't converge\n",
    "])\n",
    "\n",
    "# Fit the pipeline\n",
    "pipeline.fit(X_train, y_train)\n"
   ]
  }
 ],
 "metadata": {
  "kernelspec": {
   "display_name": "base",
   "language": "python",
   "name": "python3"
  },
  "language_info": {
   "codemirror_mode": {
    "name": "ipython",
    "version": 3
   },
   "file_extension": ".py",
   "mimetype": "text/x-python",
   "name": "python",
   "nbconvert_exporter": "python",
   "pygments_lexer": "ipython3",
   "version": "3.12.4"
  }
 },
 "nbformat": 4,
 "nbformat_minor": 2
}
